{
 "cells": [
  {
   "cell_type": "code",
   "execution_count": null,
   "id": "435a5c74",
   "metadata": {},
   "outputs": [],
   "source": [
    "from dataparser import Data_parser\n",
    "from label_encoder_np import Label_encoder_v2,get_feat_shape,get_bbox_size,generate_anchors\n",
    "from ggmodel import GG_SSD\n",
    "from ggloss import SSD_Loss_v2\n",
    "from box_decoder import Box_decoder,boxVisualization\n",
    "import tensorflow as tf\n",
    "import cv2\n"
   ]
  },
  {
   "cell_type": "code",
   "execution_count": null,
   "id": "36b652d6",
   "metadata": {},
   "outputs": [],
   "source": [
    "#設置超參數\n",
    "image_shape = (512,512)\n",
    "classes = ['Cyan-Blue','Blue','Green','Red']\n",
    "num_pred_layer = 5\n",
    "Smin = 0.05\n",
    "Smax = 0.8\n",
    "steps = ([8,16,32,64,128])\n",
    "#--------------------------------------------\n",
    "sizes = get_bbox_size(image_shape,num_pred_layer,Smin,Smax)# 預設box大小\n",
    "ratios =([2,0.5],\n",
    "        [2,0.5],\n",
    "        [2,0.5],\n",
    "        [2,0.5],\n",
    "        [2,0.5])   # 預設box長寬比\n",
    "feat_shape = get_feat_shape(image_shape,steps)\n",
    "SSD_decoder = Box_decoder(image_shape, feat_shape, sizes, ratios, steps)"
   ]
  },
  {
   "cell_type": "code",
   "execution_count": null,
   "id": "59674097",
   "metadata": {},
   "outputs": [],
   "source": [
    "#讀取並解析XML\n",
    "XML = Data_parser(r'C:\\Users\\User\\GGjupyter\\DeepLearning-Data\\Butterfly\\train',Classes = classes)\n",
    "decoded_labels = XML.xml_parser()"
   ]
  },
  {
   "cell_type": "code",
   "execution_count": null,
   "id": "3de125f7",
   "metadata": {},
   "outputs": [],
   "source": [
    "Anchors = generate_anchors(image_shape, \n",
    "                  feat_shape, \n",
    "                  sizes, \n",
    "                  ratios, \n",
    "                  steps)"
   ]
  },
  {
   "cell_type": "code",
   "execution_count": null,
   "id": "32e8696b",
   "metadata": {},
   "outputs": [],
   "source": [
    "#encode bbox\n",
    "y_train = Label_encoder_v2(decoded_labels,\n",
    "                  image_shape, \n",
    "                  feat_shape, \n",
    "                  sizes, \n",
    "                  ratios,\n",
    "                  steps,\n",
    "                  Anchors)\n",
    "\n",
    "print(f'shape of y_train = {y_train.shape}')"
   ]
  },
  {
   "cell_type": "code",
   "execution_count": null,
   "id": "dd359036",
   "metadata": {},
   "outputs": [],
   "source": [
    "#讀取影像\n",
    "from skimage import io\n",
    "import numpy as np\n",
    "\n",
    "\n",
    "train = []\n",
    "for File in decoded_labels:\n",
    "    img = io.imread(r'C:\\Users\\User\\GGjupyter\\DeepLearning-Data\\Butterfly\\train'+'/'+File[0])[:,:,0:3]/255\n",
    "    img = img.astype('float32')\n",
    "    train.append(img)\n",
    "x_train = np.asarray(train)"
   ]
  },
  {
   "cell_type": "code",
   "execution_count": null,
   "id": "515a987e",
   "metadata": {},
   "outputs": [],
   "source": [
    "for i in range(134):\n",
    "    label_reshape = y_train[i].numpy()\n",
    "    label_reshape = label_reshape.reshape([1] + y_train.shape[1:])\n",
    "    label_reshape = tf.convert_to_tensor(label_reshape)\n",
    "    print(i+1)\n",
    "    img = x_train[i].copy()\n",
    "    Boxes = SSD_decoder.label_box(label_reshape)\n",
    "    print(Boxes)\n",
    "\n",
    "    image = boxVisualization(Boxes,img)\n",
    "    io.imshow(image)\n",
    "    io.show()"
   ]
  },
  {
   "cell_type": "code",
   "execution_count": null,
   "id": "f8149d85",
   "metadata": {},
   "outputs": [],
   "source": [
    "#建立Model及Loss\n",
    "model = GG_SSD(len(classes),sizes,ratios)\n",
    "loss = SSD_Loss_v2(len(classes))"
   ]
  },
  {
   "cell_type": "code",
   "execution_count": null,
   "id": "21435a90",
   "metadata": {},
   "outputs": [],
   "source": [
    "#compile\n",
    "from tensorflow.keras.optimizers import Adam\n",
    "adam = Adam(learning_rate=0.0012, beta_1=0.9, beta_2=0.999, epsilon=1e-08, decay=0.0005)\n",
    "model.compile(optimizer=adam, loss=loss.compute_loss)"
   ]
  },
  {
   "cell_type": "code",
   "execution_count": null,
   "id": "70074bd6",
   "metadata": {},
   "outputs": [],
   "source": [
    "def dataGenerator(x_train,y_train,batch_size):\n",
    "    if len(x_train) != len(y_train):\n",
    "        raise ValueError(f\"length of x_train is {len(x_train)} but get {len(y_train)} as length of y_train\")\n",
    "    index = 0\n",
    "    while index < len(x_train):\n",
    "        if index + batch_size > len(x_train):\n",
    "            index = 0\n",
    "            shuffle = np.arange(len(x_train))\n",
    "            np.random.shuffle(shuffle)\n",
    "            x_train,y_train = x_train[shuffle],y_train[shuffle]\n",
    "        yield x_train[index:index+batch_size],y_train[index:index+batch_size]\n",
    "        index += batch_size\n",
    "\n",
    "GGenerator = dataGenerator(x_train,y_train,4)"
   ]
  },
  {
   "cell_type": "code",
   "execution_count": null,
   "id": "291355bf",
   "metadata": {
    "scrolled": true
   },
   "outputs": [],
   "source": [
    "#開始訓練\n",
    "model.fit(GGenerator,epochs=100,steps_per_epoch = 100)"
   ]
  },
  {
   "cell_type": "code",
   "execution_count": null,
   "id": "4342dd96",
   "metadata": {},
   "outputs": [],
   "source": [
    "for i in range(134):\n",
    "    \n",
    "    img = x_train[i].copy()\n",
    "    img_reshape = img.reshape(1,512,512,3)\n",
    "    result = model(img_reshape)\n",
    "\n",
    "    Boxes = SSD_decoder(result)\n",
    "    for box in Boxes:\n",
    "        print(box[4])\n",
    "    image = boxVisualization(Boxes,img)\n",
    "    io.imshow(image)\n",
    "    io.show()"
   ]
  },
  {
   "cell_type": "code",
   "execution_count": null,
   "id": "dec5603f",
   "metadata": {},
   "outputs": [],
   "source": [
    "Boxes = SSD_decoder(result)\n",
    "for box in Boxes:\n",
    "    print(box[4])\n",
    "image = boxVisualization(Boxes,img)\n",
    "io.imshow(image)"
   ]
  },
  {
   "cell_type": "code",
   "execution_count": null,
   "id": "6663d69e",
   "metadata": {},
   "outputs": [],
   "source": [
    "# def boxVisualization(Boxes,image,image_size = image_shape):\n",
    "#     img = image.copy()\n",
    "#     for box in Boxes:\n",
    "#         ymin = box[0]*image_size[0]\n",
    "#         xmin = box[1]*image_size[1]\n",
    "#         ymax = box[2]*image_size[0]\n",
    "#         xmax = box[3]*image_size[1]\n",
    "#         img = cv2.rectangle(img,(int(xmin),int(ymin)),(int(xmax),int(ymax)),(15,235,80),2)\n",
    "#     return img"
   ]
  },
  {
   "cell_type": "code",
   "execution_count": null,
   "id": "d48c1b0d",
   "metadata": {},
   "outputs": [],
   "source": [
    "# DBOX = SSD_decoder.anchor_pred"
   ]
  },
  {
   "cell_type": "code",
   "execution_count": null,
   "id": "795060ca",
   "metadata": {},
   "outputs": [],
   "source": [
    "# img = np.zeros(shape = (512,512,3))\n",
    "# for i,box in enumerate(DBOX):\n",
    "#     if i%3 == 0 and i%7 == 0 and i%5 == 0 and i%13 == 0: \n",
    "#         ymin = box[0]*512\n",
    "#         xmin = box[1]*512\n",
    "#         ymax = box[2]*512\n",
    "#         xmax = box[3]*512\n",
    "#         img = cv2.rectangle(img,(int(xmin),int(ymin)),(int(xmax),int(ymax)),(15,235,80),1)"
   ]
  },
  {
   "cell_type": "code",
   "execution_count": null,
   "id": "9f375d6c",
   "metadata": {},
   "outputs": [],
   "source": [
    "# io.imshow(img)\n",
    "# io.imsave('test.png',img)"
   ]
  },
  {
   "cell_type": "code",
   "execution_count": null,
   "id": "8bbccee6",
   "metadata": {},
   "outputs": [],
   "source": []
  }
 ],
 "metadata": {
  "kernelspec": {
   "display_name": "Python 3 (ipykernel)",
   "language": "python",
   "name": "python3"
  },
  "language_info": {
   "codemirror_mode": {
    "name": "ipython",
    "version": 3
   },
   "file_extension": ".py",
   "mimetype": "text/x-python",
   "name": "python",
   "nbconvert_exporter": "python",
   "pygments_lexer": "ipython3",
   "version": "3.8.12"
  }
 },
 "nbformat": 4,
 "nbformat_minor": 5
}
